{
 "cells": [
  {
   "cell_type": "code",
   "execution_count": 1,
   "metadata": {},
   "outputs": [],
   "source": [
    "# Importações básicas\n",
    "import numpy as np # Para manipulação de arrays e cálculos numéricos eficientes\n",
    "import pandas as pd # Para carregar, maipular e analisar conjutos de dados estruturados (DataFrames e Séries).\n",
    "import matplotlib.pyplot as plt # Para criar gráficos e visualizar dados.\n",
    "from sklearn import datasets, metrics # Contém conjuntos de dados prontos para teste (ex: iris, digits, wine, etc.). E a metrics fornece mpetricas para avaliar modelos, como precisão e modelo \n",
    "from sklearn.model_selection import train_test_split # Divide os dados em conjuto de treino e teste, essencial para avaliar modelos de ML"
   ]
  },
  {
   "cell_type": "code",
   "execution_count": 2,
   "metadata": {},
   "outputs": [
    {
     "name": "stdout",
     "output_type": "stream",
     "text": [
      "Formato dos dados: (150, 4)\n",
      "Formato dos rótulos: (150,)\n"
     ]
    }
   ],
   "source": [
    "# Carregar o conjunto de dados iris\n",
    "iris = datasets.load_iris() # Carrega esse conjunto de dados.\n",
    "X = iris.data # Atribui as características (comprimento e largura das pétalas e sépalas) á variável \"x\"\n",
    "y = iris.target # Atribui os rótulos das classes (0, 1 e 2, representando os três tipos de flores) á variável \"y\"\n",
    "\n",
    "# Verificar as dimensões\n",
    "print(f\"Formato dos dados: {X.shape}\") # mostra a dimensão da matriz de dados (número de amostras x número de características)\n",
    "print(f\"Formato dos rótulos: {y.shape}\") # mostra a dimensão do vetor de rótulos, que deve ser (150), pois há 150 rótulos, um para cada amostra\n",
    "\n",
    "# Dividir em conjuntos de treino e teste\n",
    "#Divide os dados em dois conjuntos:\n",
    " #Treino (X_train, y_train) -> Usado para treinar o modelo (75% dos dados).\n",
    " #Teste (X_test, y_test) -> Usado para avaliar o modelo (25% dos dados)\n",
    "#test_size=0.25 -> Define que 25% dos dados serão usados para teste.\n",
    "#random_state=42 -> Garante que divisão será sempre a mesma quando o código for executado novamente (para reprodutibilidade)\n",
    "X_train, X_test, y_train, y_test = train_test_split(\n",
    "    X, y, test_size=0.25, random_state=42)"
   ]
  },
  {
   "cell_type": "code",
   "execution_count": 3,
   "metadata": {},
   "outputs": [],
   "source": [
    "# StandardScaler -> Normaliza os dados, deixando-os com média 0 e desvio padrão 1.\n",
    "# OneHotEnconder -> Transforma variáveis categóricas em valores numéricos (não usado diretamente nesse código, mas útil para categorizar dados)\n",
    "# SimpleImputer -> Preenche valores ausentes com alguma estratégia (como a mediana ou a média)\n",
    "# ColumnTransformer -> Aplica transformações diferentes a colunas específicas (útil quando temos variaveis numéricas e categóricas)\n",
    "# Pipeline -> Cria um fluxo de pré-processamento automático\n",
    "from sklearn.preprocessing import StandardScaler, OneHotEncoder\n",
    "from sklearn.impute import SimpleImputer\n",
    "from sklearn.compose import ColumnTransformer\n",
    "from sklearn.pipeline import Pipeline\n",
    "\n",
    "# Exemplo de escalonamento de features\n",
    "scaler = StandardScaler() # calcula a média e o desvio padrão dos dados\n",
    "X_train_scaled = scaler.fit_transform(X_train) # Ajusta os dados de treino e os transforma\n",
    "X_test_scaled = scaler.transform(X_test) # Usa os mesmos parâmetros para transformar os dados de teste (sem recalcular a média  eo desvio padrão)\n",
    "\n",
    "# Exemplo mais complexo com diferentes tipos de dados\n",
    "# (normalmente usado quando temos features numéricas e categóricas)\n",
    "numeric_features = [0, 1, 2, 3]  # índices das colunas numéricas\n",
    "numeric_transformer = Pipeline(steps=[\n",
    "    ('imputer', SimpleImputer(strategy='median')), # preenche valores ausentes com a mediana\n",
    "    ('scaler', StandardScaler()) # Escalona os valores para manter média 0 e desvio padrão 1\n",
    "])\n",
    "\n",
    "preprocessor = ColumnTransformer( # Aplica diferentes transformações a diferentes tipos de colunas\n",
    "    transformers=[\n",
    "        ('num', numeric_transformer, numeric_features) # Neste caso, aplica \"numeric_transformer\" ás colunas numéricas [0, 1, 2, 3]\n",
    "    ])\n",
    "\n",
    "    # Resumo\n",
    "    # O codigo faz pré-processamento de dados para Machine Learning:\n",
    "    # 1. Escalonamento: Normaliza os dados numéricos para evitar que algumas variaveis tenham mais peso que outras.\n",
    "    # 2. Tratamento de valores ausentes> Preenche valores faltantes com a mediana.\n",
    "    # 3. Pipeline: Encadeia os passos de transformação  para facilitar a aplicação em novos dados."
   ]
  },
  {
   "cell_type": "code",
   "execution_count": null,
   "metadata": {},
   "outputs": [],
   "source": [
    "from sklearn.linear_model import LogisticRegression # Modelo de regressao logística, usado para clsassificação binaria\n",
    "from sklearn.ensemble import RandomForestClassifier # Modelo baseado em múltiplas árvores de decisão para classificação\n",
    "from sklearn.svm import SVC # Modelo de Support Vector Machine (Máquina de Vetores de Suporte), usado para classificação\n",
    "\n",
    "# Pipeline simples com pré-processamento e modelo\n",
    "pipeline = Pipeline(steps=[\n",
    "    ('preprocessor', preprocessor), # Aplica o pré-processamento definido antes (ColumnTransfromer com Standardscaler e SimpleImputer)\n",
    "    ('classifier', RandomForestClassifier(random_state=42)) # Modelo de classificação. Neste caso, um RandomForestClassifier (floresta aleatória), que usa várias árvores de decisão para melhorar a precisão. e o random_state=42: define um valor fixo para que os resultados sejam reproduzíveis.\n",
    "])\n",
    "\n",
    "# Treinar o pipeline\n",
    "# Primeiro, o preprocessor transforma os dados de treino\n",
    "# Depois, o RandomForestClassifier aprende padrões nos dados transofrmados.\n",
    "pipeline.fit(X_train, y_train)\n",
    "\n",
    "# Fazer previsões\n",
    "# Aplica o pré-processamneto e modelo treinado ao conjunto de teste\n",
    "# Retorna as previsões \"y_pred\", que são as clasess previstas para os dados de teste\n",
    "y_pred = pipeline.predict(X_test)\n",
    "\n",
    "# Resumo\n",
    "# 1. Pré-precesa os dados (preenchimento de valores ausentes e escalonamento)\n",
    "# 2. treina um modelo de classificação (Random Forest)\n",
    "# 3. faz previsões nos dados de teste"
   ]
  }
 ],
 "metadata": {
  "kernelspec": {
   "display_name": "Python 3",
   "language": "python",
   "name": "python3"
  },
  "language_info": {
   "codemirror_mode": {
    "name": "ipython",
    "version": 3
   },
   "file_extension": ".py",
   "mimetype": "text/x-python",
   "name": "python",
   "nbconvert_exporter": "python",
   "pygments_lexer": "ipython3",
   "version": "3.12.1"
  }
 },
 "nbformat": 4,
 "nbformat_minor": 2
}
