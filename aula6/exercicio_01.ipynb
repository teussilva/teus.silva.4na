{
 "cells": [
  {
   "cell_type": "code",
   "execution_count": 3,
   "metadata": {},
   "outputs": [],
   "source": [
    "import numpy as np\n",
    "from sklearn.feature_extraction.text import TfidfVectorizer"
   ]
  },
  {
   "cell_type": "code",
   "execution_count": 5,
   "metadata": {},
   "outputs": [],
   "source": [
    "def texto_para_vetor(texto, modelo):\n",
    "    \"\"\"Converte um texto em um vetor numérico usando TF-IDF\"\"\"\n",
    "    return modelo.transform([texto]).toarray()[0]"
   ]
  },
  {
   "cell_type": "code",
   "execution_count": null,
   "metadata": {},
   "outputs": [],
   "source": [
    "def similaridade_documentos(doc1, doc2, modelo):\n",
    "    \"\"\"Calcula a similaridade entre dois documentos usando embeddings\"\"\"\n",
    "    vetor1 = texto_para_vetor(doc1, modelo)\n",
    "    vetor2 = texto_para_vetor(doc2, modelo)\n",
    "\n",
    "    # Calcular similaridade do cosseno\n",
    "    # similaridade = 1 - distância do cosseno\n",
    "    similaridade = np.dot(vetor1, vetor2) / (np.linalg.norm(vetor1) * np.linalg.norm(vetor2))\n",
    "    return similaridade\n",
    "\n",
    "# Exercício: Calcule a similaridade entre os documentos abaixo\n",
    "documento1 = \"O filme tem uma história envolvente e atuações convincentes\"\n",
    "documento2 = \"A narrativa do filme é cativante e os atores são excelentes\"\n",
    "documento3 = \"O restaurante tem comida deliciosa e preços acessíveis\"\n"
   ]
  },
  {
   "cell_type": "code",
   "execution_count": null,
   "metadata": {},
   "outputs": [],
   "source": [
    "# Calcular similaridades (implemente sua solução)\n",
    "# ..."
   ]
  }
 ],
 "metadata": {
  "kernelspec": {
   "display_name": "Python 3",
   "language": "python",
   "name": "python3"
  },
  "language_info": {
   "codemirror_mode": {
    "name": "ipython",
    "version": 3
   },
   "file_extension": ".py",
   "mimetype": "text/x-python",
   "name": "python",
   "nbconvert_exporter": "python",
   "pygments_lexer": "ipython3",
   "version": "3.12.1"
  }
 },
 "nbformat": 4,
 "nbformat_minor": 2
}
