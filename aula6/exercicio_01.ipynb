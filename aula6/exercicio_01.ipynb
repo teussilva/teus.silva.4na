{
 "cells": [
  {
   "cell_type": "code",
   "execution_count": 19,
   "metadata": {},
   "outputs": [],
   "source": [
    "import numpy as np\n",
    "from sklearn.feature_extraction.text import TfidfVectorizer"
   ]
  },
  {
   "cell_type": "code",
   "execution_count": 20,
   "metadata": {},
   "outputs": [],
   "source": [
    "def texto_para_vetor(texto, modelo):\n",
    "    \"\"\"Converte um texto em um vetor numérico usando TF-IDF\"\"\"\n",
    "    return modelo.transform([texto]).toarray()[0]"
   ]
  },
  {
   "cell_type": "code",
   "execution_count": 21,
   "metadata": {},
   "outputs": [],
   "source": [
    "def similaridade_documentos(doc1, doc2, modelo):\n",
    "    \"\"\"Calcula a similaridade entre dois documentos usando embeddings\"\"\"\n",
    "    vetor1 = texto_para_vetor(doc1, modelo)\n",
    "    vetor2 = texto_para_vetor(doc2, modelo)\n",
    "\n",
    "    # Calcular similaridade do cosseno\n",
    "    # similaridade = 1 - distância do cosseno\n",
    "    similaridade = np.dot(vetor1, vetor2) / (np.linalg.norm(vetor1) * np.linalg.norm(vetor2))\n",
    "    return similaridade\n",
    "\n",
    "def calcular_similaridade(modelo, pares_docs):\n",
    "    resultados = []\n",
    "    for doc1, doc2 in pares_docs:\n",
    "        resultado = similaridade_documentos(doc1, doc2, modelo)\n",
    "        resultados.append(((doc1, doc2), resultado))\n",
    "    return resultados\n",
    "\n",
    "# Exercício: Calcule a similaridade entre os documentos abaixo\n",
    "documento1 = \"O filme tem uma história envolvente e atuações convincentes\"\n",
    "documento2 = \"A narrativa do filme é cativante e os atores são excelentes\"\n",
    "documento3 = \"O restaurante tem comida deliciosa e preços acessíveis\"\n"
   ]
  },
  {
   "cell_type": "code",
   "execution_count": 22,
   "metadata": {},
   "outputs": [
    {
     "name": "stdout",
     "output_type": "stream",
     "text": [
      "O filme tem uma história envolvente e atuações convincentes - A narrativa do filme é cativante e os atores são excelentes: 0.0847\n",
      "O filme tem uma história envolvente e atuações convincentes - O restaurante tem comida deliciosa e preços acessíveis: 0.0987\n",
      "A narrativa do filme é cativante e os atores são excelentes - A narrativa do filme é cativante e os atores são excelentes: 1.0000\n"
     ]
    }
   ],
   "source": [
    "# Calcular similaridades (implemente sua solução)\n",
    "# ...\n",
    "pares = [\n",
    "    (documento1, documento2),\n",
    "    (documento1, documento3),\n",
    "    (documento2, documento2),\n",
    "]\n",
    "\n",
    "corpus = [documento1, documento2, documento3]\n",
    "modelo = TfidfVectorizer().fit(corpus)\n",
    "\n",
    "# Calcular similaridades\n",
    "similaridades = calcular_similaridade(modelo, pares)\n",
    "\n",
    "# Exibir os resultados\n",
    "for (doc1, doc2), similaridade in similaridades:\n",
    "    if isinstance(similaridade, float):\n",
    "        print(f\"{doc1} - {doc2}: {similaridade:.4f}\")\n",
    "    else:\n",
    "        print(f\"{doc1} - {doc2}: {similaridade}\")\n"
   ]
  }
 ],
 "metadata": {
  "kernelspec": {
   "display_name": "Python 3",
   "language": "python",
   "name": "python3"
  },
  "language_info": {
   "codemirror_mode": {
    "name": "ipython",
    "version": 3
   },
   "file_extension": ".py",
   "mimetype": "text/x-python",
   "name": "python",
   "nbconvert_exporter": "python",
   "pygments_lexer": "ipython3",
   "version": "3.12.1"
  }
 },
 "nbformat": 4,
 "nbformat_minor": 2
}
