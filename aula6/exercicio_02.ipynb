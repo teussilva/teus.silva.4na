{
 "cells": [
  {
   "cell_type": "code",
   "execution_count": 1,
   "id": "b2f23e92",
   "metadata": {},
   "outputs": [],
   "source": [
    "def detectar_topico(texto, palavras_chave_por_topico, modelo):\n",
    "    \"\"\"\n",
    "    Detecta o tópico mais provável para um texto com base na similaridade de embeddings.\n",
    "\n",
    "    Args:\n",
    "        texto: Texto a ser classificado\n",
    "        palavras_chave_por_topico: Dicionário {tópico: [palavras_chave]}\n",
    "        modelo: Modelo de embeddings\n",
    "    \"\"\"\n",
    "    # Vetorizar o texto\n",
    "    vetor_texto = texto_para_vetor(texto, modelo)\n",
    "\n",
    "    # Calcular similaridade média com cada conjunto de palavras-chave\n",
    "    similaridades_topicos = {}\n",
    "\n",
    "    # Implementar cálculo de similaridade média entre o texto e as palavras-chave\n",
    "    # ...\n",
    "\n",
    "    # Retornar o tópico com maior similaridade\n",
    "    # ...\n",
    "\n",
    "# Definir palavras-chave por tópico\n",
    "topicos = {\n",
    "    \"Cinema\": [\"filme\", \"cinema\", \"ator\", \"diretor\", \"roteiro\"],\n",
    "    \"Tecnologia\": [\"computador\", \"algoritmo\", \"software\", \"programação\", \"tecnologia\"],\n",
    "    \"Esporte\": [\"futebol\", \"atleta\", \"equipe\", \"competição\", \"treino\"]\n",
    "}\n",
    "\n",
    "# Textos para classificar\n",
    "textos_para_classificar = [\n",
    "    \"O novo filme do diretor ganhou vários prêmios no festival\",\n",
    "    \"A empresa lançou um software de inteligência artificial\",\n",
    "    \"O time conquistou o campeonato após uma temporada difícil\"\n",
    "]\n",
    "\n"
   ]
  },
  {
   "cell_type": "code",
   "execution_count": 2,
   "id": "54eb23b5",
   "metadata": {},
   "outputs": [
    {
     "name": "stdout",
     "output_type": "stream",
     "text": [
      "\"O novo filme do diretor ganhou vários prêmios no festival\" → Tópico detectado: Cinema\n",
      "\"A empresa lançou um software de inteligência artificial\" → Tópico detectado: Tecnologia\n",
      "\"O time conquistou o campeonato após uma temporada difícil\" → Tópico detectado: Cinema\n"
     ]
    }
   ],
   "source": [
    "# Classificar textos (implemente sua solução)\n",
    "# ...\n",
    "\n",
    "import numpy as np\n",
    "from sklearn.feature_extraction.text import TfidfVectorizer\n",
    "\n",
    "# Função que transforma texto em vetor\n",
    "def texto_para_vetor(texto, modelo):\n",
    "    return modelo.transform([texto]).toarray()[0]\n",
    "\n",
    "# Função para detectar o tópico mais provável\n",
    "def detectar_topico(texto, palavras_chave_por_topico, modelo):\n",
    "    vetor_texto = texto_para_vetor(texto, modelo)\n",
    "    similaridades_topicos = {}\n",
    "\n",
    "    for topico, palavras_chave in palavras_chave_por_topico.items():\n",
    "        similaridades = []\n",
    "        for palavra in palavras_chave:\n",
    "            vetor_palavra = texto_para_vetor(palavra, modelo)\n",
    "            similaridade = np.dot(vetor_texto, vetor_palavra) / (np.linalg.norm(vetor_texto) * np.linalg.norm(vetor_palavra))\n",
    "            similaridades.append(similaridade)\n",
    "        \n",
    "        media = sum(similaridades) / len(similaridades)\n",
    "        similaridades_topicos[topico] = media\n",
    "\n",
    "    # Retorna o tópico com a maior média de similaridade\n",
    "    return max(similaridades_topicos, key=similaridades_topicos.get)\n",
    "\n",
    "# Tópicos e palavras-chave\n",
    "topicos = {\n",
    "    \"Cinema\": [\"filme\", \"cinema\", \"ator\", \"diretor\", \"roteiro\"],\n",
    "    \"Tecnologia\": [\"computador\", \"algoritmo\", \"software\", \"programação\", \"tecnologia\"],\n",
    "    \"Esporte\": [\"futebol\", \"atleta\", \"equipe\", \"competição\", \"treino\"]\n",
    "}\n",
    "\n",
    "# Textos que queremos classificar\n",
    "textos_para_classificar = [\n",
    "    \"O novo filme do diretor ganhou vários prêmios no festival\",\n",
    "    \"A empresa lançou um software de inteligência artificial\",\n",
    "    \"O time conquistou o campeonato após uma temporada difícil\"\n",
    "]\n",
    "\n",
    "# Preparar corpus para treinar o modelo TF-IDF (inclui os textos e as palavras-chave)\n",
    "corpus = textos_para_classificar + [palavra for lista in topicos.values() for palavra in lista]\n",
    "modelo = TfidfVectorizer().fit(corpus)\n",
    "\n",
    "# Classificar cada texto\n",
    "for texto in textos_para_classificar:\n",
    "    topico_detectado = detectar_topico(texto, topicos, modelo)\n",
    "    print(f'\"{texto}\" → Tópico detectado: {topico_detectado}')\n"
   ]
  }
 ],
 "metadata": {
  "kernelspec": {
   "display_name": "Python 3",
   "language": "python",
   "name": "python3"
  },
  "language_info": {
   "codemirror_mode": {
    "name": "ipython",
    "version": 3
   },
   "file_extension": ".py",
   "mimetype": "text/x-python",
   "name": "python",
   "nbconvert_exporter": "python",
   "pygments_lexer": "ipython3",
   "version": "3.12.1"
  }
 },
 "nbformat": 4,
 "nbformat_minor": 5
}
